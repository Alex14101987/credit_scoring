{
  "nbformat": 4,
  "nbformat_minor": 0,
  "metadata": {
    "colab": {
      "provenance": []
    },
    "kernelspec": {
      "name": "python3",
      "display_name": "Python 3"
    },
    "language_info": {
      "name": "python"
    }
  },
  "cells": [
    {
      "cell_type": "markdown",
      "source": [
        "Не решил проблему с подключением к базе, порт 5432, хост 127.0.0.1\n",
        "Подскажите пожалуйста в чем еще может быть причина?\n",
        "\n",
        "OperationalError                          Traceback (most recent call last)\n",
        "<timed eval> in <module>\n",
        "\n",
        "<ipython-input-10-1047b2b2867b> in send_sql_query(query, args)\n",
        "      6     :param args: аргументы для подключения в БД.\n",
        "      7     \"\"\"\n",
        "----> 8     conn = psycopg2.connect(**args)\n",
        "      9     try:\n",
        "     10         cursor = conn.cursor()\n",
        "\n",
        "/usr/local/lib/python3.8/dist-packages/psycopg2/__init__.py in connect(dsn, connection_factory, cursor_factory, **kwargs)\n",
        "    120 \n",
        "    121     dsn = _ext.make_dsn(dsn, **kwargs)\n",
        "--> 122     conn = _connect(dsn, connection_factory=connection_factory, **kwasync)\n",
        "    123     if cursor_factory is not None:\n",
        "    124         conn.cursor_factory = cursor_factory\n",
        "\n",
        "OperationalError: could not connect to server: Connection refused\n",
        "\tIs the server running on host \"127.0.0.1\" and accepting\n",
        "\tTCP/IP connections on port 5432?"
      ],
      "metadata": {
        "id": "AaT5VhyeOvpx"
      }
    },
    {
      "cell_type": "code",
      "execution_count": 7,
      "metadata": {
        "id": "B2hEcuJX16Qp"
      },
      "outputs": [],
      "source": [
        "import pandas as pd\n",
        "import psycopg2\n",
        "import os"
      ]
    },
    {
      "cell_type": "code",
      "source": [
        "DB_USER = os.getenv('DB_USER')\n",
        "DB_PASSWORD = os.getenv('DB_PASSWORD')\n",
        "# DATA_FULL_PATH = \"C:\\\\Temp\\\\data\\\\\"\n",
        "DATA_FULL_PATH = \"C:/Program Files/PostgreSQL/14/data/\"\n",
        "DATABASE_NAME = 'home_credit'"
      ],
      "metadata": {
        "id": "0_xFa42C4FoD"
      },
      "execution_count": 19,
      "outputs": []
    },
    {
      "cell_type": "code",
      "source": [
        "DB_ARGS = {\n",
        "    'database': DATABASE_NAME,\n",
        "    'host': '127.0.0.1',\n",
        "    'user': DB_USER,\n",
        "    'password': DB_PASSWORD\n",
        "}"
      ],
      "metadata": {
        "id": "l1cNd2wq4KZy"
      },
      "execution_count": 20,
      "outputs": []
    },
    {
      "cell_type": "code",
      "source": [
        "def send_sql_query(query: str, args: dict):\n",
        "    \"\"\"\n",
        "    Выполняет запрос к базе.\n",
        "\n",
        "    :param query: строка с sql запросом.\n",
        "    :param args: аргументы для подключения в БД.\n",
        "    \"\"\"\n",
        "    conn = psycopg2.connect(**args)\n",
        "    try:      \n",
        "        cursor = conn.cursor()\n",
        "        cursor.execute(query)\n",
        "        conn.commit()\n",
        "    except (Exception, psycopg2.Error) as error:\n",
        "        print(\"Error while fetching data from PostgreSQL\", error)\n",
        "    finally:\n",
        "        if conn:\n",
        "            cursor.close()\n",
        "            conn.close()\n",
        "\n",
        "            \n",
        "def get_df_from_query(query: str, args: dict) -> pd.DataFrame:\n",
        "    \"\"\"\n",
        "    Выполняет запрос к базе.\n",
        "\n",
        "    :param query: строка с sql запросом.\n",
        "    :param args: аргументы для подключения в БД.\n",
        "    \n",
        "    :return df: датафрейм с результатом.\n",
        "    \"\"\"  \n",
        "    conn = psycopg2.connect(**args)\n",
        "    df = pd.read_sql(query, conn)\n",
        "    conn.close()\n",
        "    return df"
      ],
      "metadata": {
        "id": "DeBa_Ze94NiU"
      },
      "execution_count": 21,
      "outputs": []
    },
    {
      "cell_type": "code",
      "source": [
        "sql_schema_query = \"\"\"\n",
        "    DROP TABLE IF EXISTS bureau; \n",
        "    CREATE TABLE bureau(\n",
        "      SK_ID_CURR integer,\n",
        "      SK_ID_BUREAU integer,\n",
        "      CREDIT_ACTIVE varchar(13),\n",
        "      CREDIT_CURRENCY varchar(15),\n",
        "      DAYS_CREDIT smallint,\n",
        "      CREDIT_DAY_OVERDUE smallint,\n",
        "      DAYS_CREDIT_ENDDATE real,\n",
        "      DAYS_ENDDATE_FACT real,\n",
        "      AMT_CREDIT_MAX_OVERDUE real,\n",
        "      CNT_CREDIT_PROLONG smallint,\n",
        "      AMT_CREDIT_SUM real,\n",
        "      AMT_CREDIT_SUM_DEBT real,\n",
        "      AMT_CREDIT_SUM_LIMIT real,\n",
        "      AMT_CREDIT_SUM_OVERDUE real,\n",
        "      CREDIT_TYPE varchar(49),\n",
        "      DAYS_CREDIT_UPDATE integer,\n",
        "      AMT_ANNUITY  real)\n",
        "\"\"\""
      ],
      "metadata": {
        "id": "oXOfudV74SYB"
      },
      "execution_count": 22,
      "outputs": []
    },
    {
      "cell_type": "code",
      "source": [
        "%%time\n",
        "send_sql_query(sql_schema_query, DB_ARGS)"
      ],
      "metadata": {
        "id": "1IzIFWOG4dvw",
        "colab": {
          "base_uri": "https://localhost:8080/",
          "height": 449
        },
        "outputId": "c0c278cb-205c-4f80-cf8a-6d1d017b236d"
      },
      "execution_count": 23,
      "outputs": [
        {
          "output_type": "error",
          "ename": "OperationalError",
          "evalue": "ignored",
          "traceback": [
            "\u001b[0;31m---------------------------------------------------------------------------\u001b[0m",
            "\u001b[0;31mOperationalError\u001b[0m                          Traceback (most recent call last)",
            "\u001b[0;32m<timed eval>\u001b[0m in \u001b[0;36m<module>\u001b[0;34m\u001b[0m\n",
            "\u001b[0;32m<ipython-input-21-1047b2b2867b>\u001b[0m in \u001b[0;36msend_sql_query\u001b[0;34m(query, args)\u001b[0m\n\u001b[1;32m      6\u001b[0m     \u001b[0;34m:\u001b[0m\u001b[0mparam\u001b[0m \u001b[0margs\u001b[0m\u001b[0;34m:\u001b[0m \u001b[0mаргументы\u001b[0m \u001b[0mдля\u001b[0m \u001b[0mподключения\u001b[0m \u001b[0mв\u001b[0m \u001b[0mБД\u001b[0m\u001b[0;34m.\u001b[0m\u001b[0;34m\u001b[0m\u001b[0;34m\u001b[0m\u001b[0m\n\u001b[1;32m      7\u001b[0m     \"\"\"\n\u001b[0;32m----> 8\u001b[0;31m     \u001b[0mconn\u001b[0m \u001b[0;34m=\u001b[0m \u001b[0mpsycopg2\u001b[0m\u001b[0;34m.\u001b[0m\u001b[0mconnect\u001b[0m\u001b[0;34m(\u001b[0m\u001b[0;34m**\u001b[0m\u001b[0margs\u001b[0m\u001b[0;34m)\u001b[0m\u001b[0;34m\u001b[0m\u001b[0;34m\u001b[0m\u001b[0m\n\u001b[0m\u001b[1;32m      9\u001b[0m     \u001b[0;32mtry\u001b[0m\u001b[0;34m:\u001b[0m\u001b[0;34m\u001b[0m\u001b[0;34m\u001b[0m\u001b[0m\n\u001b[1;32m     10\u001b[0m         \u001b[0mcursor\u001b[0m \u001b[0;34m=\u001b[0m \u001b[0mconn\u001b[0m\u001b[0;34m.\u001b[0m\u001b[0mcursor\u001b[0m\u001b[0;34m(\u001b[0m\u001b[0;34m)\u001b[0m\u001b[0;34m\u001b[0m\u001b[0;34m\u001b[0m\u001b[0m\n",
            "\u001b[0;32m/usr/local/lib/python3.8/dist-packages/psycopg2/__init__.py\u001b[0m in \u001b[0;36mconnect\u001b[0;34m(dsn, connection_factory, cursor_factory, **kwargs)\u001b[0m\n\u001b[1;32m    120\u001b[0m \u001b[0;34m\u001b[0m\u001b[0m\n\u001b[1;32m    121\u001b[0m     \u001b[0mdsn\u001b[0m \u001b[0;34m=\u001b[0m \u001b[0m_ext\u001b[0m\u001b[0;34m.\u001b[0m\u001b[0mmake_dsn\u001b[0m\u001b[0;34m(\u001b[0m\u001b[0mdsn\u001b[0m\u001b[0;34m,\u001b[0m \u001b[0;34m**\u001b[0m\u001b[0mkwargs\u001b[0m\u001b[0;34m)\u001b[0m\u001b[0;34m\u001b[0m\u001b[0;34m\u001b[0m\u001b[0m\n\u001b[0;32m--> 122\u001b[0;31m     \u001b[0mconn\u001b[0m \u001b[0;34m=\u001b[0m \u001b[0m_connect\u001b[0m\u001b[0;34m(\u001b[0m\u001b[0mdsn\u001b[0m\u001b[0;34m,\u001b[0m \u001b[0mconnection_factory\u001b[0m\u001b[0;34m=\u001b[0m\u001b[0mconnection_factory\u001b[0m\u001b[0;34m,\u001b[0m \u001b[0;34m**\u001b[0m\u001b[0mkwasync\u001b[0m\u001b[0;34m)\u001b[0m\u001b[0;34m\u001b[0m\u001b[0;34m\u001b[0m\u001b[0m\n\u001b[0m\u001b[1;32m    123\u001b[0m     \u001b[0;32mif\u001b[0m \u001b[0mcursor_factory\u001b[0m \u001b[0;32mis\u001b[0m \u001b[0;32mnot\u001b[0m \u001b[0;32mNone\u001b[0m\u001b[0;34m:\u001b[0m\u001b[0;34m\u001b[0m\u001b[0;34m\u001b[0m\u001b[0m\n\u001b[1;32m    124\u001b[0m         \u001b[0mconn\u001b[0m\u001b[0;34m.\u001b[0m\u001b[0mcursor_factory\u001b[0m \u001b[0;34m=\u001b[0m \u001b[0mcursor_factory\u001b[0m\u001b[0;34m\u001b[0m\u001b[0;34m\u001b[0m\u001b[0m\n",
            "\u001b[0;31mOperationalError\u001b[0m: could not connect to server: Connection refused\n\tIs the server running on host \"127.0.0.1\" and accepting\n\tTCP/IP connections on port 5432?\n"
          ]
        }
      ]
    },
    {
      "cell_type": "code",
      "source": [
        "sql_data_query = f\"\"\"\n",
        "COPY bureau(\n",
        "  SK_ID_CURR,\n",
        "  SK_ID_BUREAU,\n",
        "  CREDIT_ACTIVE,\n",
        "  CREDIT_CURRENCY,\n",
        "  DAYS_CREDIT,\n",
        "  CREDIT_DAY_OVERDUE,\n",
        "  DAYS_CREDIT_ENDDATE,\n",
        "  DAYS_ENDDATE_FACT,\n",
        "  AMT_CREDIT_MAX_OVERDUE,\n",
        "  CNT_CREDIT_PROLONG,\n",
        "  AMT_CREDIT_SUM,\n",
        "  AMT_CREDIT_SUM_DEBT,\n",
        "  AMT_CREDIT_SUM_LIMIT,\n",
        "  AMT_CREDIT_SUM_OVERDUE,\n",
        "  CREDIT_TYPE,\n",
        "  DAYS_CREDIT_UPDATE,\n",
        "  AMT_ANNUITY\n",
        ")\n",
        "FROM '{DATA_FULL_PATH}bureau.csv' DELIMITER ',' CSV HEADER;\n",
        "\"\"\""
      ],
      "metadata": {
        "id": "fLQWH-4TH2jX"
      },
      "execution_count": 13,
      "outputs": []
    },
    {
      "cell_type": "code",
      "source": [
        "%%time\n",
        "send_sql_query(sql_data_query, DB_ARGS)"
      ],
      "metadata": {
        "id": "uSsZvxdgH9j5"
      },
      "execution_count": null,
      "outputs": []
    },
    {
      "cell_type": "code",
      "source": [
        "sql_query = \"\"\"\n",
        "    SELECT * FROM bureau \n",
        "\"\"\""
      ],
      "metadata": {
        "id": "16xswMRsIBWc"
      },
      "execution_count": 15,
      "outputs": []
    },
    {
      "cell_type": "code",
      "source": [
        "%%time\n",
        "get_df_from_query(sql_query, DB_ARGS)"
      ],
      "metadata": {
        "id": "kenJnsepIGFQ"
      },
      "execution_count": null,
      "outputs": []
    },
    {
      "cell_type": "code",
      "source": [
        "# вывести средний доход среди всех клиентов\n",
        "\n",
        "%%time\n",
        "\n",
        "query = \"\"\"\n",
        "SELECT AVG(amt_income_total) AS mean_income\n",
        "FROM application_test;\n",
        "\"\"\"\n",
        "get_df_from_query(query, DB_ARGS)\n"
      ],
      "metadata": {
        "id": "pAourFHfKmUV"
      },
      "execution_count": null,
      "outputs": []
    },
    {
      "cell_type": "code",
      "source": [
        "# вывести минимальный и максимальный возраст среди всех клиентов\n",
        "\n",
        "%%time\n",
        "\n",
        "query = \"\"\"\n",
        "SELECT MIN(YEAR(CURRENT_DATE)-YEAR(days_birth))-(RIGHT(CURRENT_DATE,5)<RIGHT(days_birth,5)) AS age,\n",
        "       MAX(YEAR(CURRENT_DATE)-YEAR(days_birth))-(RIGHT(CURRENT_DATE,5)<RIGHT(days_birth,5)) AS age\n",
        "FROM application_test;\n",
        "\"\"\"\n",
        "get_df_from_query(query, DB_ARGS)"
      ],
      "metadata": {
        "id": "yT-zUOhWLeE1"
      },
      "execution_count": null,
      "outputs": []
    },
    {
      "cell_type": "code",
      "source": [
        "# вывести общую сумму, количество и среднюю сумму, запрошенную клиентами в кредит с авто и без\n",
        "\n",
        "%%time\n",
        "\n",
        "query = \"\"\"\n",
        "SELECT SUM(amt_credit),\n",
        "       COUNT(amt_credit),\n",
        "       AVG(amt_credit) FROM application_test;\n",
        "\"\"\"\n",
        "get_df_from_query(query, DB_ARGS)"
      ],
      "metadata": {
        "id": "I-OQDc7VLhsJ"
      },
      "execution_count": null,
      "outputs": []
    },
    {
      "cell_type": "code",
      "source": [
        "# вывести доли клиентов с различным образованием\n",
        "\n",
        "%%time\n",
        "\n",
        "query = \"\"\"\n",
        "SELECT (1 - (SELECT count(DISTINCT name_education_type = 'Higher education')\n",
        "             FROM name_education_type) / count(*)) * 100\n",
        "             FROM application_test;\n",
        "\"\"\"\n",
        "get_df_from_query(query, DB_ARGS)"
      ],
      "metadata": {
        "id": "KUrKiI6pLksU"
      },
      "execution_count": null,
      "outputs": []
    },
    {
      "cell_type": "code",
      "source": [
        "# подсчитать количество полных лет для клиентов, у которых есть во владении автомобиль и недвижимость.\n",
        "# вывести топ 10 по возрастанию\n",
        "\n",
        "%%time\n",
        "\n",
        "query = \"\"\"\n",
        "SELECT \n",
        "    sk_id_curr,\n",
        "    COUNT(*) \n",
        "    SUM(CASE WHEN name = 'flag_own_car' THEN Y ELSE N END),\n",
        "    SUM(CASE WHEN name = 'flag_own_realty' THEN Y ELSE N END)\n",
        "FROM \n",
        "    application_test;\n",
        "\"\"\"\n",
        "get_df_from_query(query, DB_ARGS)"
      ],
      "metadata": {
        "id": "NUiiK3uHLloS"
      },
      "execution_count": null,
      "outputs": []
    },
    {
      "cell_type": "code",
      "source": [
        "# вывести тех клиентов, у кого доход на одного члена семьи в два раза больше, чем в среднем на одного члена семьи по выборке\n",
        "\n",
        "%%time\n",
        "\n",
        "query = \"\"\"\n",
        "SELECT *\n",
        "    WHERE amt_income_total / 2 > AVG(amt_income_total)\n",
        "FROM \n",
        "    application_test;\n",
        "\"\"\"\n",
        "get_df_from_query(query, DB_ARGS)"
      ],
      "metadata": {
        "id": "o3hLF7eVLmEo"
      },
      "execution_count": null,
      "outputs": []
    },
    {
      "cell_type": "code",
      "source": [
        "# вывести клиентов старше 60 лет по которым нет данных в bureau\n",
        "\n",
        "%%time\n",
        "\n",
        "query = \"\"\"\n",
        "SELECT *\n",
        "    WHERE days_birth <= DATEADD(YEAR, -60, SYSDATETIME())\n",
        "FROM \n",
        "    application_test;\n",
        "\"\"\"\n",
        "get_df_from_query(query, DB_ARGS)"
      ],
      "metadata": {
        "id": "6M6rTwj8Lmfe"
      },
      "execution_count": null,
      "outputs": []
    },
    {
      "cell_type": "code",
      "source": [
        "# вывести женщин, у которых в истории bureau было больше двух кредитов, просроченных на 61 день и более\n",
        "# отсортировать в порядке убывания по кол-ву таких кредитов\n",
        "\n"
      ],
      "metadata": {
        "id": "qwfW2XIaLoXs"
      },
      "execution_count": null,
      "outputs": []
    },
    {
      "cell_type": "code",
      "source": [
        "# по данным из bureau (БКИ) расчитать долю просрочки в активных займах для каждого клиента\n",
        "# вывести топ 7 мужчин с наибольшей суммой просрочки, указав для них, помимо прочего,\n",
        "# сумму активных кредитов и суммы всех кредитов (активных и закрытых).\n",
        "\n"
      ],
      "metadata": {
        "id": "JiwKU4tLL5IW"
      },
      "execution_count": null,
      "outputs": []
    },
    {
      "cell_type": "code",
      "source": [
        "# 5 своих признаков для будущего обучения модели\n",
        "# процент суммы кредита относительно дохода клиента\n",
        "application_test['credit_income_percent'] = app_train_domain['amt_credit'] / app_train_domain['amt_income_total']\n",
        "\n",
        "# процент аннуитетного платежа кредита относительно дохода клиента\n",
        "application_test['annuity_income_percent'] = app_train_domain['amt_annuity'] / app_train_domain['amt_income_total']\n",
        "\n",
        "# продолжительность платежа в месяцах\n",
        "application_test['credit_term'] = app_train_domain['amt_annuity'] / app_train_domain['amt_credit']\n",
        "\n",
        "# процент отработанных дней по отношению к возрасту клиента\n",
        "application_test['days_employed_percent'] = app_train_domain['days_employed'] / app_train_domain['days_birth']\n",
        "\n",
        "# полиномиальный признак давший наивысшую корреляцию с таргетом\n",
        "application_test['ext_source'] = app_train_domain['ext_source_2'] * app_train_domain['ext_source_2']"
      ],
      "metadata": {
        "id": "9d4Fi6QPaTbb"
      },
      "execution_count": null,
      "outputs": []
    }
  ]
}