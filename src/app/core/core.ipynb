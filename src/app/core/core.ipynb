{
 "cells": [
  {
   "cell_type": "markdown",
   "id": "087c2d90",
   "metadata": {},
   "source": [
    "# О себе"
   ]
  },
  {
   "cell_type": "markdown",
   "id": "0221ce2e",
   "metadata": {},
   "source": [
    "- Закончил ТГУ ФПМК - математические методы в экономике\n",
    "- 7+ лет опыта в сфере DS (или близкой к DS)\n",
    "- В настоящее время - главный дата аналитик в ЦФТ"
   ]
  },
  {
   "cell_type": "markdown",
   "id": "292cfbc1",
   "metadata": {},
   "source": [
    "# План лекции"
   ]
  },
  {
   "cell_type": "markdown",
   "id": "d94fb641",
   "metadata": {},
   "source": [
    "1. Постановка задачи, схематичное описание системы, описание АПИ\n",
    "2. Обертка над моделью - переход от prob'ы к решению\n",
    "3. Переход от бинарного решения к определнию суммы выдачи\n",
    "4. Пример взаимодействия сервиса и ядра\n",
    "5. Пример использования ядра для тестирования\n",
    "6. Описание домашней работы"
   ]
  },
  {
   "cell_type": "markdown",
   "id": "8b30cafe",
   "metadata": {},
   "source": [
    "# Постановка задачи\n",
    "\n",
    "В рамках большой системы функционирует множество сервисов.\n",
    "\n",
    "Сервис кредитного скоринга - один из сервисом. Детали реализации модели не важны, важен публичный интерфейс."
   ]
  },
  {
   "cell_type": "markdown",
   "id": "75774b85",
   "metadata": {},
   "source": [
    "## Запрос\n",
    "\n",
    "Запрос, в общем случае, содержит данные о клиенте.\n"
   ]
  },
  {
   "cell_type": "code",
   "execution_count": 77,
   "id": "2ed8f5a8",
   "metadata": {},
   "outputs": [
    {
     "data": {
      "text/plain": [
       "{'person_id': 'int', 'income': 'int', 'birth_date': 'string'}"
      ]
     },
     "execution_count": 77,
     "metadata": {},
     "output_type": "execute_result"
    }
   ],
   "source": [
    "{\n",
    "    \"person_id\": \"int\", \n",
    "    \"income\": \"int\", \n",
    "    \"birth_date\": \"string\"\n",
    "}"
   ]
  },
  {
   "cell_type": "markdown",
   "id": "0a01b466",
   "metadata": {},
   "source": [
    "## Ответ\n",
    "\n",
    "Ответ, в общем случае, содержит детали решения - решение, сумму, причину и т.д. "
   ]
  },
  {
   "cell_type": "code",
   "execution_count": 78,
   "id": "ffd58db8",
   "metadata": {},
   "outputs": [
    {
     "data": {
      "text/plain": [
       "{'person_id': 'int', 'decision': 'string', 'amount': 'int', 'reason': 'string'}"
      ]
     },
     "execution_count": 78,
     "metadata": {},
     "output_type": "execute_result"
    }
   ],
   "source": [
    "{\n",
    "    \"person_id\": \"int\",\n",
    "    \"decision\": \"string\",\n",
    "    \"amount\": \"int\",\n",
    "    \"reason\": \"string\",\n",
    "}"
   ]
  },
  {
   "cell_type": "markdown",
   "id": "267ae6d9",
   "metadata": {},
   "source": [
    "### Потребителю сервиса кредитного скоринга не важно, какая именно используется модель, и какая бизнес логика реализована поверх модели. Главное - получить решение и причину.\n",
    "\n",
    "Использование обученной модели - predict_proba(features). Необходимо реализовать переход от prob'ы к решению."
   ]
  },
  {
   "cell_type": "markdown",
   "id": "b965f84a",
   "metadata": {},
   "source": [
    "# Модель"
   ]
  },
  {
   "cell_type": "code",
   "execution_count": 87,
   "id": "d4733943",
   "metadata": {},
   "outputs": [],
   "source": [
    "import pickle\n",
    "\n",
    "class CustomScoringModel:\n",
    "\n",
    "    def predict_proba(\n",
    "        self,\n",
    "        income_category: str,\n",
    "        age_category: str,\n",
    "    ) -> float:\n",
    "        \"\"\"Функция принимает на вход категорию дохода и возраста клиента и возвращает вероятность дефолта.\n",
    "        \n",
    "        income_category принимает следующие значения\n",
    "            - \"< 10_000\"\n",
    "            - \"> 50_000\"\n",
    "            - \"other\"\n",
    "        age_category принимает следующие значения\n",
    "            - \"young\" - меньше 21\n",
    "            - \"old\" - больше 70\n",
    "            - \"other\"\n",
    "        \"\"\"\n",
    "        # низкий дефолт\n",
    "        if income_category == \"> 50_000\" and age_category == 'other':\n",
    "            return 0.01\n",
    "        # высокий дефолт\n",
    "        if income_category == \"< 10_000\" and (age_category == 'old' or age_category == 'young'):\n",
    "            return 0.5\n",
    "        # средний дефолт\n",
    "        return 0.2\n",
    "    \n",
    "    def save_model(\n",
    "        self,\n",
    "        file_path: str,\n",
    "    ) -> None:\n",
    "        \"\"\"Функция принимает на вход путь, сохраняет по эту пути .pickle с моделью.\"\"\"\n",
    "        with open(file_path, 'wb') as file:\n",
    "            pickle.dump(self, file)"
   ]
  },
  {
   "cell_type": "code",
   "execution_count": 90,
   "id": "d0af608c",
   "metadata": {},
   "outputs": [
    {
     "data": {
      "text/plain": [
       "<__main__.CustomScoringModel at 0x244f1c33640>"
      ]
     },
     "execution_count": 90,
     "metadata": {},
     "output_type": "execute_result"
    }
   ],
   "source": [
    "# Инициализируем модель\n",
    "model = CustomScoringModel()\n",
    "model"
   ]
  },
  {
   "cell_type": "markdown",
   "id": "e5fe2ec4",
   "metadata": {},
   "source": [
    "Попробуем получить вероятность дефолта для разных параметров"
   ]
  },
  {
   "cell_type": "code",
   "execution_count": 91,
   "id": "fe30a4e3",
   "metadata": {},
   "outputs": [
    {
     "name": "stdout",
     "output_type": "stream",
     "text": [
      "0.5\n"
     ]
    }
   ],
   "source": [
    "print(\n",
    "    model.predict_proba(\n",
    "        income_category=\"< 10_000\",\n",
    "        age_category=\"young\",\n",
    "    )\n",
    ")"
   ]
  },
  {
   "cell_type": "code",
   "execution_count": 92,
   "id": "469492b4",
   "metadata": {},
   "outputs": [
    {
     "name": "stdout",
     "output_type": "stream",
     "text": [
      "0.2\n"
     ]
    }
   ],
   "source": [
    "print(\n",
    "    model.predict_proba(\n",
    "        income_category=\"> 50_000\",\n",
    "        age_category=\"young\",\n",
    "    )\n",
    ")"
   ]
  },
  {
   "cell_type": "code",
   "execution_count": 93,
   "id": "ccb7deb5",
   "metadata": {},
   "outputs": [
    {
     "name": "stdout",
     "output_type": "stream",
     "text": [
      "0.01\n"
     ]
    }
   ],
   "source": [
    "print(\n",
    "    model.predict_proba(\n",
    "        income_category=\"> 50_000\",\n",
    "        age_category=\"other\",\n",
    "    )\n",
    ")"
   ]
  },
  {
   "cell_type": "code",
   "execution_count": 94,
   "id": "f60f3ba1",
   "metadata": {},
   "outputs": [],
   "source": [
    "# Сохраним модель\n",
    "model_path = './model.pickle'\n",
    "model.save_model('model.pickle')"
   ]
  },
  {
   "cell_type": "code",
   "execution_count": 95,
   "id": "611e3ad9",
   "metadata": {},
   "outputs": [],
   "source": [
    "# Прочитаем модель из сохраненного файла\n",
    "with open(model_path, 'rb') as pickled_model:\n",
    "    unpickled_model = pickle.load(pickled_model)"
   ]
  },
  {
   "cell_type": "code",
   "execution_count": 96,
   "id": "60553494",
   "metadata": {},
   "outputs": [
    {
     "name": "stdout",
     "output_type": "stream",
     "text": [
      "0.01\n"
     ]
    }
   ],
   "source": [
    "# Убедимся, что модель работает также\n",
    "print(\n",
    "    unpickled_model.predict_proba(\n",
    "        income_category=\"> 50_000\",\n",
    "        age_category=\"other\",\n",
    "    )\n",
    ")"
   ]
  },
  {
   "cell_type": "markdown",
   "id": "239e051e",
   "metadata": {},
   "source": [
    "Таким образом, у нас есть .pickle с моделью и понимание интерфейса взаимодействия (какие признаки используем). Как именно была обучена модель, на текущем шаге, не важно - разделяем ответственность."
   ]
  },
  {
   "cell_type": "markdown",
   "id": "b5cda87d",
   "metadata": {},
   "source": [
    "# Обертка над моделью для принятия простого решения"
   ]
  },
  {
   "cell_type": "markdown",
   "id": "5d7f892e",
   "metadata": {},
   "source": [
    "Определим датаклассы для унифицированного ответа модели."
   ]
  },
  {
   "cell_type": "code",
   "execution_count": 18,
   "id": "e9861d26",
   "metadata": {},
   "outputs": [],
   "source": [
    "from dataclasses import dataclass\n",
    "from enum import Enum, auto\n",
    "\n",
    "class ScoringDecision(Enum):\n",
    "    \"\"\"Возможные решения модели.\"\"\"\n",
    "\n",
    "    ACCEPTED = auto()\n",
    "    DECLINED = auto()\n",
    "    \n",
    "@dataclass\n",
    "class ScoringResult:\n",
    "    \"\"\"Класс, содержащий результаты скоринга.\"\"\"\n",
    "\n",
    "    decision: ScoringDecision\n",
    "    amount: int\n",
    "    threshold: float\n",
    "    proba: float"
   ]
  },
  {
   "cell_type": "markdown",
   "id": "1379df70",
   "metadata": {},
   "source": [
    "Определим датакласс для унифицированного использования необходимых признаков."
   ]
  },
  {
   "cell_type": "code",
   "execution_count": 19,
   "id": "2c4e5f0b",
   "metadata": {},
   "outputs": [],
   "source": [
    "@dataclass\n",
    "class Features:\n",
    "    \"\"\"Фичи для принятия решения об одобрении.\"\"\"\n",
    "\n",
    "    income_category: str = 'other'\n",
    "    age_category: str = 'other'"
   ]
  },
  {
   "cell_type": "markdown",
   "id": "ff5b09ee",
   "metadata": {},
   "source": [
    "Реализуем класс обертку для модели:\n",
    "- решение бинарное\n",
    "- трешхолд и сумма одобрения зафиксированы"
   ]
  },
  {
   "cell_type": "code",
   "execution_count": 29,
   "id": "f8f2fc9a",
   "metadata": {},
   "outputs": [],
   "source": [
    "class SimpleModel:\n",
    "    \"\"\"Класс для моделей c расчетом proba и threshold.\"\"\"\n",
    "    \n",
    "    _threshold = 0.3\n",
    "\n",
    "    def __init__(self, model_path: str):\n",
    "        \"\"\"Создает объект класса.\"\"\"\n",
    "        with open(model_path, 'rb') as pickled_model:\n",
    "            self._model = pickle.load(pickled_model)\n",
    "\n",
    "    def get_scoring_result(self, features):\n",
    "        p = self._predict_proba(features)\n",
    "                      \n",
    "        decision = ScoringDecision.DECLINED\n",
    "        amount = 0\n",
    "        if p < self._threshold:\n",
    "            amount = 100_000\n",
    "            decision = ScoringDecision.ACCEPTED\n",
    "        \n",
    "        return ScoringResult(\n",
    "            decision=decision,\n",
    "            amount=amount,\n",
    "            threshold=self._threshold,\n",
    "            proba=p,\n",
    "        )\n",
    "\n",
    "    def _predict_proba(self, features: Features) -> float:\n",
    "        \"\"\"Определяет вероятность невозврата займа.\"\"\" \n",
    "        # важен порядок признаков для catboost\n",
    "        res = self._model.predict_proba(\n",
    "            features.income_category,\n",
    "            features.age_category,\n",
    "        )\n",
    "        return res"
   ]
  },
  {
   "cell_type": "code",
   "execution_count": 97,
   "id": "e5c9e706",
   "metadata": {},
   "outputs": [],
   "source": [
    "# Инициализируем модель\n",
    "core_simple_model = SimpleModel('./model.pickle')"
   ]
  },
  {
   "cell_type": "markdown",
   "id": "92b0b092",
   "metadata": {},
   "source": [
    "Попробуем получить решение для разных параметров"
   ]
  },
  {
   "cell_type": "code",
   "execution_count": 99,
   "id": "c84b8fce",
   "metadata": {},
   "outputs": [
    {
     "data": {
      "text/plain": [
       "ScoringResult(decision=<ScoringDecision.ACCEPTED: 1>, amount=100000, threshold=0.3, proba=0.01)"
      ]
     },
     "execution_count": 99,
     "metadata": {},
     "output_type": "execute_result"
    }
   ],
   "source": [
    "core_simple_model.get_scoring_result(\n",
    "    Features(\n",
    "        income_category=\"> 50_000\",\n",
    "        age_category=\"other\",\n",
    "    )\n",
    ")"
   ]
  },
  {
   "cell_type": "code",
   "execution_count": 100,
   "id": "2bdb9952",
   "metadata": {},
   "outputs": [
    {
     "data": {
      "text/plain": [
       "ScoringResult(decision=<ScoringDecision.ACCEPTED: 1>, amount=100000, threshold=0.3, proba=0.2)"
      ]
     },
     "execution_count": 100,
     "metadata": {},
     "output_type": "execute_result"
    }
   ],
   "source": [
    "core_simple_model.get_scoring_result(\n",
    "    Features(\n",
    "        income_category=\"< 10_000\",\n",
    "        age_category=\"other\",\n",
    "    )\n",
    ")"
   ]
  },
  {
   "cell_type": "code",
   "execution_count": 101,
   "id": "7fe8cb07",
   "metadata": {},
   "outputs": [
    {
     "data": {
      "text/plain": [
       "ScoringResult(decision=<ScoringDecision.DECLINED: 2>, amount=0, threshold=0.3, proba=0.5)"
      ]
     },
     "execution_count": 101,
     "metadata": {},
     "output_type": "execute_result"
    }
   ],
   "source": [
    "core_simple_model.get_scoring_result(\n",
    "    Features(\n",
    "        income_category=\"< 10_000\",\n",
    "        age_category=\"old\",\n",
    "    )\n",
    ")"
   ]
  },
  {
   "cell_type": "markdown",
   "id": "0830d33f",
   "metadata": {},
   "source": [
    "# Принятие решение о сумме одобрения - калькулятор\n",
    "\n",
    "В зависимости от значения пробы и самих признаках может различаться сумма одобрения:\n",
    "    - маленькая вероятность дефолта, хороший клиент, выше сумма\n",
    "    - при одной и той же вероятности дефолта могут быть ограничения, например, на возраст"
   ]
  },
  {
   "cell_type": "markdown",
   "id": "fbd33d30",
   "metadata": {},
   "source": [
    "Реализуем класс калькулятор для расчета суммы одобрения"
   ]
  },
  {
   "cell_type": "code",
   "execution_count": 34,
   "id": "1f8c9540",
   "metadata": {},
   "outputs": [],
   "source": [
    "class Calculator:\n",
    "    def calc_amount(\n",
    "        self,\n",
    "        proba: str,\n",
    "        features: Features,\n",
    "    ) -> int:\n",
    "        \"\"\"Функция принимает на вход вероятность дефолта и признаки и расчитывает одобренную сумму.\"\"\"\n",
    "        if proba < 0.10 or features.income_category == '> 50_000':\n",
    "            return 500_000\n",
    "        if features.age_category == 'other':\n",
    "            return 200_000\n",
    "        return 100_000"
   ]
  },
  {
   "cell_type": "markdown",
   "id": "22acf521",
   "metadata": {},
   "source": [
    "Доработаем класс обертку модели для принятия не только бинарных решений. "
   ]
  },
  {
   "cell_type": "code",
   "execution_count": 102,
   "id": "9f94d467",
   "metadata": {},
   "outputs": [],
   "source": [
    "# унаследуемся от SimpleModel чтобы не переопределять одинаковый функционал\n",
    "class AdvancedModel(SimpleModel):\n",
    "    \n",
    "    def __init__(self, model_path: str):\n",
    "        super().__init__(model_path)\n",
    "        self._calculator = Calculator()\n",
    "    \n",
    "    def get_scoring_result(self, features):        \n",
    "        p = self._predict_proba(features)\n",
    "        \n",
    "        final_decision = ScoringDecision.DECLINED\n",
    "        approved_amount = 0\n",
    "        if p < 0.3:\n",
    "            final_decision = ScoringDecision.ACCEPTED\n",
    "            approved_amount = self._calculator.calc_amount(\n",
    "                p,\n",
    "                features,\n",
    "            )\n",
    "\n",
    "        return ScoringResult(decision=final_decision, amount=approved_amount, threshold=self._threshold, proba=p)"
   ]
  },
  {
   "cell_type": "code",
   "execution_count": 103,
   "id": "d22472d5",
   "metadata": {},
   "outputs": [],
   "source": [
    "# Инициализируем модель\n",
    "core_advanced_model = AdvancedModel('./model.pickle')"
   ]
  },
  {
   "cell_type": "markdown",
   "id": "8bed54ba",
   "metadata": {},
   "source": [
    "Попробуем получить решение для разных параметров"
   ]
  },
  {
   "cell_type": "code",
   "execution_count": 104,
   "id": "9115812c",
   "metadata": {},
   "outputs": [
    {
     "data": {
      "text/plain": [
       "ScoringResult(decision=<ScoringDecision.ACCEPTED: 1>, amount=500000, threshold=0.3, proba=0.01)"
      ]
     },
     "execution_count": 104,
     "metadata": {},
     "output_type": "execute_result"
    }
   ],
   "source": [
    "core_advanced_model.get_scoring_result(\n",
    "    Features(\n",
    "        income_category=\"> 50_000\",\n",
    "        age_category=\"other\",\n",
    "    )\n",
    ")"
   ]
  },
  {
   "cell_type": "code",
   "execution_count": 105,
   "id": "adec2e4e",
   "metadata": {},
   "outputs": [
    {
     "data": {
      "text/plain": [
       "ScoringResult(decision=<ScoringDecision.ACCEPTED: 1>, amount=200000, threshold=0.3, proba=0.2)"
      ]
     },
     "execution_count": 105,
     "metadata": {},
     "output_type": "execute_result"
    }
   ],
   "source": [
    "core_advanced_model.get_scoring_result(\n",
    "    Features(\n",
    "        income_category=\"other\",\n",
    "        age_category=\"other\",\n",
    "    )\n",
    ")"
   ]
  },
  {
   "cell_type": "code",
   "execution_count": 106,
   "id": "aa2902c6",
   "metadata": {},
   "outputs": [
    {
     "data": {
      "text/plain": [
       "ScoringResult(decision=<ScoringDecision.ACCEPTED: 1>, amount=100000, threshold=0.3, proba=0.2)"
      ]
     },
     "execution_count": 106,
     "metadata": {},
     "output_type": "execute_result"
    }
   ],
   "source": [
    "core_advanced_model.get_scoring_result(\n",
    "    Features(\n",
    "        income_category=\"other\",\n",
    "        age_category=\"young\",\n",
    "    )\n",
    ")"
   ]
  },
  {
   "cell_type": "code",
   "execution_count": 107,
   "id": "09eeaa0b",
   "metadata": {},
   "outputs": [
    {
     "data": {
      "text/plain": [
       "ScoringResult(decision=<ScoringDecision.DECLINED: 2>, amount=0, threshold=0.3, proba=0.5)"
      ]
     },
     "execution_count": 107,
     "metadata": {},
     "output_type": "execute_result"
    }
   ],
   "source": [
    "core_simple_model.get_scoring_result(\n",
    "    Features(\n",
    "        income_category=\"< 10_000\",\n",
    "        age_category=\"old\",\n",
    "    )\n",
    ")"
   ]
  },
  {
   "cell_type": "markdown",
   "id": "b3ee648d",
   "metadata": {},
   "source": [
    "При одном и том же значении proba возможно одобрение разной суммы."
   ]
  },
  {
   "cell_type": "markdown",
   "id": "1c16e05f",
   "metadata": {},
   "source": [
    "# Обертка нам моделью - это еще не сервис."
   ]
  },
  {
   "cell_type": "markdown",
   "id": "068b3b0c",
   "metadata": {},
   "source": [
    "Для корректной работы сервиса необходимо:\n",
    "- Распарсить запрос\n",
    "- Обогатить пришедшую информацию о клиенте (возможны походы в сторонние сервисы)\n",
    "- Рассчитать признаки\n",
    "- **Получить решение и сумму**\n",
    "- Подготовить и вернуть ответ"
   ]
  },
  {
   "cell_type": "markdown",
   "id": "1919c6a2",
   "metadata": {},
   "source": [
    "Принцип разделения ответственности:\n",
    "- ядро инкапсулирует бизнес логику, за которую отвечают аналитики\n",
    "- сервис реализует функционал, необходимый для взаимодействия с внешними системами\n",
    "\n",
    "Плюсы разделения:\n",
    "- разделение ответственности (и нагрузки) между аналитиками и разработчиками\n",
    "- условно независимые релизные циклы\n",
    "    - сервис может обновляться без изменения логики в ядре\n",
    "    - логика ядра может быть обновлена без существенной нагрузки на разработчиков\n",
    "- повышение ответственности аналитиков за реализуемые решения\n",
    "\n",
    "Грань не строгая, функционал может пересекаться. "
   ]
  },
  {
   "cell_type": "markdown",
   "id": "d6c15b30",
   "metadata": {},
   "source": [
    "# Пример реализации сервиса\n",
    "\n",
    "Реализуем пример сервиса в следующих предположениях:\n",
    "- Сервис отвечает за парсинг запроса, расчет признаков и подготовку ответа\n",
    "- Запрос это дата рождения + доход в формате json строки\n",
    "- Ответ - решение, сумма, причина - в формате json строки"
   ]
  },
  {
   "cell_type": "code",
   "execution_count": null,
   "id": "994f66af",
   "metadata": {},
   "outputs": [],
   "source": [
    "# с такими строками мы уже умеем работать\n",
    "'{\"person_id\": 1, \"income\": 55000, \"birth_date\": \"2000-01-01\"}'"
   ]
  },
  {
   "cell_type": "code",
   "execution_count": 48,
   "id": "714fc98e",
   "metadata": {},
   "outputs": [],
   "source": [
    "import json\n",
    "from datetime import datetime\n",
    "\n",
    "class Service:\n",
    "    \n",
    "    # путь из конфига\n",
    "    _model = AdvancedModel('./model.pickle')\n",
    "    \n",
    "    def _parse_request(\n",
    "        self,\n",
    "        request: str,\n",
    "    ) -> dict:\n",
    "        return json.loads(request)\n",
    "    \n",
    "    def _calculate_income_category(\n",
    "        self,\n",
    "        income: int,\n",
    "    ) -> str:\n",
    "        if income < 10_000:\n",
    "            return \"< 10_000\"\n",
    "        if income > 50_000:\n",
    "            return \"> 50_000\"\n",
    "        return \"other\"\n",
    "        \n",
    "    def _calculate_age_category(\n",
    "        self,\n",
    "        birth_date: str\n",
    "    ) -> str:\n",
    "        age = int((datetime.now() - datetime.strptime(birth_date, '%Y-%m-%d')).days / 365.2425)\n",
    "        if age < 21:\n",
    "            return \"young\"\n",
    "        if age > 70:\n",
    "            return \"old\"\n",
    "        return \"other\"\n",
    "    \n",
    "    def _calculate_features(\n",
    "        self,\n",
    "        request: dict,\n",
    "    ) -> Features:\n",
    "        return Features(\n",
    "            income_category=self._calculate_income_category(\n",
    "                income=request['income'],                \n",
    "            ),\n",
    "            age_category=self._calculate_age_category(\n",
    "                birth_date=request['birth_date'],\n",
    "            )\n",
    "        )        \n",
    "        \n",
    "    def _prepare_response(\n",
    "        self,\n",
    "        request: dict,\n",
    "        scoring_result: ScoringResult,\n",
    "    ) -> str:\n",
    "        return json.dumps(\n",
    "            {\n",
    "                'person_id': request['person_id'],\n",
    "                'decision': scoring_result.decision.name,\n",
    "                'amount': scoring_result.amount,\n",
    "                'reason': 'by_scoring_model',\n",
    "            }\n",
    "        )\n",
    "        \n",
    "    \n",
    "    def get_result(\n",
    "        self,\n",
    "        request: str\n",
    "    ) -> str:\n",
    "        parsed_request = self._parse_request(\n",
    "                    request=request,\n",
    "                )\n",
    "        scoring_result = self._model.get_scoring_result(\n",
    "            features=self._calculate_features(\n",
    "                request=parsed_request,\n",
    "            )\n",
    "        )\n",
    "        return self._prepare_response(\n",
    "            request=parsed_request,\n",
    "            scoring_result=scoring_result,\n",
    "        )        "
   ]
  },
  {
   "cell_type": "code",
   "execution_count": 108,
   "id": "27ef7be2",
   "metadata": {},
   "outputs": [],
   "source": [
    "# Инициализируем сервис\n",
    "service = Service()"
   ]
  },
  {
   "cell_type": "markdown",
   "id": "8ac83827",
   "metadata": {},
   "source": [
    "Попробуем получить решение для разных параметров"
   ]
  },
  {
   "cell_type": "code",
   "execution_count": 110,
   "id": "6c75ff66",
   "metadata": {},
   "outputs": [
    {
     "data": {
      "text/plain": [
       "'{\"person_id\": 1, \"decision\": \"ACCEPTED\", \"amount\": 500000, \"reason\": \"by_scoring_model\"}'"
      ]
     },
     "execution_count": 110,
     "metadata": {},
     "output_type": "execute_result"
    }
   ],
   "source": [
    "service.get_result(\n",
    "    '{\"person_id\": 1, \"income\": 55000, \"birth_date\": \"2000-01-01\"}'\n",
    ")"
   ]
  },
  {
   "cell_type": "code",
   "execution_count": 111,
   "id": "32912848",
   "metadata": {},
   "outputs": [
    {
     "data": {
      "text/plain": [
       "'{\"person_id\": 1, \"decision\": \"ACCEPTED\", \"amount\": 200000, \"reason\": \"by_scoring_model\"}'"
      ]
     },
     "execution_count": 111,
     "metadata": {},
     "output_type": "execute_result"
    }
   ],
   "source": [
    "service.get_result(\n",
    "    '{\"person_id\": 1, \"income\": 9000, \"birth_date\": \"2000-01-01\"}'\n",
    ")"
   ]
  },
  {
   "cell_type": "code",
   "execution_count": 112,
   "id": "049c46e7",
   "metadata": {},
   "outputs": [
    {
     "data": {
      "text/plain": [
       "'{\"person_id\": 1, \"decision\": \"ACCEPTED\", \"amount\": 100000, \"reason\": \"by_scoring_model\"}'"
      ]
     },
     "execution_count": 112,
     "metadata": {},
     "output_type": "execute_result"
    }
   ],
   "source": [
    "service.get_result(\n",
    "    '{\"person_id\": 1, \"income\": 20000, \"birth_date\": \"2005-01-01\"}'\n",
    ")"
   ]
  },
  {
   "cell_type": "code",
   "execution_count": 113,
   "id": "ba4505a4",
   "metadata": {},
   "outputs": [
    {
     "data": {
      "text/plain": [
       "'{\"person_id\": 1, \"decision\": \"DECLINED\", \"amount\": 0, \"reason\": \"by_scoring_model\"}'"
      ]
     },
     "execution_count": 113,
     "metadata": {},
     "output_type": "execute_result"
    }
   ],
   "source": [
    "service.get_result(\n",
    "    '{\"person_id\": 1, \"income\": 9000, \"birth_date\": \"2005-01-01\"}'\n",
    ")"
   ]
  },
  {
   "cell_type": "markdown",
   "id": "20def84a",
   "metadata": {},
   "source": [
    "Интерфейс модели полностью скрыт от внешних систем. Внешние системы не знают ни какие признаки используются, ни какие пороги подобраны для одобрения и т.д. Главное чтобы соблюдался контракт - прислали дату рождения и доход - получили ответ.\n",
    "\n",
    "Если модель меняется - интерфейс взаимодействия нет."
   ]
  },
  {
   "cell_type": "markdown",
   "id": "a068d525",
   "metadata": {},
   "source": [
    "# Просмотр кода из репозитория, пример использования"
   ]
  },
  {
   "cell_type": "code",
   "execution_count": 114,
   "id": "d4580cf0",
   "metadata": {},
   "outputs": [],
   "source": [
    "# сгенерируем синтетический датафрейм\n",
    "from random import randint\n",
    "import pandas as pd\n",
    "\n",
    "person_ids = [i for i in range(0, 100)]\n",
    "income = [randint(5000, 100000) for i in range(0, 100)]\n",
    "birth_date = [f'{randint(1970, 2023)}-{randint(1, 12)}-{randint(1, 28)}' for i in range(0, 100)]\n",
    "\n",
    "df = pd.DataFrame(\n",
    "    {\n",
    "        'person_id': person_ids,\n",
    "        'income': income,\n",
    "        'birth_date': birth_date,\n",
    "    }\n",
    ")"
   ]
  },
  {
   "cell_type": "code",
   "execution_count": 116,
   "id": "59048096",
   "metadata": {},
   "outputs": [],
   "source": [
    "# насчитаем признаки\n",
    "df['income_category'] = df['income'].apply(lambda x: service._calculate_income_category(x))\n",
    "df['age_category'] = df['birth_date'].apply(lambda x: service._calculate_age_category(x))"
   ]
  },
  {
   "cell_type": "code",
   "execution_count": 57,
   "id": "fcffcbe4",
   "metadata": {},
   "outputs": [],
   "source": [
    "# возьмем объекты из ядра\n",
    "import sys\n",
    "sys.path.append('./git/')\n",
    "\n",
    "from src.core.api import (\n",
    "    Features\n",
    ")\n",
    "from src.core.model import AdvancedModel"
   ]
  },
  {
   "cell_type": "code",
   "execution_count": 119,
   "id": "c537fbbe",
   "metadata": {},
   "outputs": [],
   "source": [
    "# инициализируем модель\n",
    "model = AdvancedModel('./model.pickle')"
   ]
  },
  {
   "cell_type": "code",
   "execution_count": 121,
   "id": "906b1e00",
   "metadata": {},
   "outputs": [],
   "source": [
    "# для каждого \"наблюдения\" получим решение\n",
    "df['result'] = df.apply(\n",
    "    lambda x: model.get_scoring_result(\n",
    "        Features(\n",
    "            income_category=x['income_category'],\n",
    "            age_category=x['age_category'],\n",
    "        )\n",
    "    ),\n",
    "    axis=1\n",
    ")"
   ]
  },
  {
   "cell_type": "code",
   "execution_count": 122,
   "id": "98ded34f",
   "metadata": {},
   "outputs": [
    {
     "data": {
      "text/html": [
       "<div>\n",
       "<style scoped>\n",
       "    .dataframe tbody tr th:only-of-type {\n",
       "        vertical-align: middle;\n",
       "    }\n",
       "\n",
       "    .dataframe tbody tr th {\n",
       "        vertical-align: top;\n",
       "    }\n",
       "\n",
       "    .dataframe thead th {\n",
       "        text-align: right;\n",
       "    }\n",
       "</style>\n",
       "<table border=\"1\" class=\"dataframe\">\n",
       "  <thead>\n",
       "    <tr style=\"text-align: right;\">\n",
       "      <th></th>\n",
       "      <th>person_id</th>\n",
       "      <th>income</th>\n",
       "      <th>birth_date</th>\n",
       "      <th>income_category</th>\n",
       "      <th>age_category</th>\n",
       "      <th>result</th>\n",
       "    </tr>\n",
       "  </thead>\n",
       "  <tbody>\n",
       "    <tr>\n",
       "      <th>0</th>\n",
       "      <td>0</td>\n",
       "      <td>5411</td>\n",
       "      <td>2010-12-14</td>\n",
       "      <td>&lt; 10_000</td>\n",
       "      <td>young</td>\n",
       "      <td>ScoringResult(decision=&lt;ScoringDecision.DECLIN...</td>\n",
       "    </tr>\n",
       "    <tr>\n",
       "      <th>1</th>\n",
       "      <td>1</td>\n",
       "      <td>49120</td>\n",
       "      <td>2002-5-22</td>\n",
       "      <td>other</td>\n",
       "      <td>young</td>\n",
       "      <td>ScoringResult(decision=&lt;ScoringDecision.ACCEPT...</td>\n",
       "    </tr>\n",
       "    <tr>\n",
       "      <th>2</th>\n",
       "      <td>2</td>\n",
       "      <td>17521</td>\n",
       "      <td>2001-12-19</td>\n",
       "      <td>other</td>\n",
       "      <td>other</td>\n",
       "      <td>ScoringResult(decision=&lt;ScoringDecision.ACCEPT...</td>\n",
       "    </tr>\n",
       "    <tr>\n",
       "      <th>3</th>\n",
       "      <td>3</td>\n",
       "      <td>74880</td>\n",
       "      <td>1984-10-25</td>\n",
       "      <td>&gt; 50_000</td>\n",
       "      <td>other</td>\n",
       "      <td>ScoringResult(decision=&lt;ScoringDecision.ACCEPT...</td>\n",
       "    </tr>\n",
       "    <tr>\n",
       "      <th>4</th>\n",
       "      <td>4</td>\n",
       "      <td>82540</td>\n",
       "      <td>1996-4-19</td>\n",
       "      <td>&gt; 50_000</td>\n",
       "      <td>other</td>\n",
       "      <td>ScoringResult(decision=&lt;ScoringDecision.ACCEPT...</td>\n",
       "    </tr>\n",
       "    <tr>\n",
       "      <th>...</th>\n",
       "      <td>...</td>\n",
       "      <td>...</td>\n",
       "      <td>...</td>\n",
       "      <td>...</td>\n",
       "      <td>...</td>\n",
       "      <td>...</td>\n",
       "    </tr>\n",
       "    <tr>\n",
       "      <th>95</th>\n",
       "      <td>95</td>\n",
       "      <td>45428</td>\n",
       "      <td>2002-3-16</td>\n",
       "      <td>other</td>\n",
       "      <td>young</td>\n",
       "      <td>ScoringResult(decision=&lt;ScoringDecision.ACCEPT...</td>\n",
       "    </tr>\n",
       "    <tr>\n",
       "      <th>96</th>\n",
       "      <td>96</td>\n",
       "      <td>62729</td>\n",
       "      <td>2001-9-14</td>\n",
       "      <td>&gt; 50_000</td>\n",
       "      <td>other</td>\n",
       "      <td>ScoringResult(decision=&lt;ScoringDecision.ACCEPT...</td>\n",
       "    </tr>\n",
       "    <tr>\n",
       "      <th>97</th>\n",
       "      <td>97</td>\n",
       "      <td>39698</td>\n",
       "      <td>2020-10-27</td>\n",
       "      <td>other</td>\n",
       "      <td>young</td>\n",
       "      <td>ScoringResult(decision=&lt;ScoringDecision.ACCEPT...</td>\n",
       "    </tr>\n",
       "    <tr>\n",
       "      <th>98</th>\n",
       "      <td>98</td>\n",
       "      <td>29407</td>\n",
       "      <td>1997-10-11</td>\n",
       "      <td>other</td>\n",
       "      <td>other</td>\n",
       "      <td>ScoringResult(decision=&lt;ScoringDecision.ACCEPT...</td>\n",
       "    </tr>\n",
       "    <tr>\n",
       "      <th>99</th>\n",
       "      <td>99</td>\n",
       "      <td>5566</td>\n",
       "      <td>1973-12-2</td>\n",
       "      <td>&lt; 10_000</td>\n",
       "      <td>other</td>\n",
       "      <td>ScoringResult(decision=&lt;ScoringDecision.ACCEPT...</td>\n",
       "    </tr>\n",
       "  </tbody>\n",
       "</table>\n",
       "<p>100 rows × 6 columns</p>\n",
       "</div>"
      ],
      "text/plain": [
       "    person_id  income  birth_date income_category age_category  \\\n",
       "0           0    5411  2010-12-14        < 10_000        young   \n",
       "1           1   49120   2002-5-22           other        young   \n",
       "2           2   17521  2001-12-19           other        other   \n",
       "3           3   74880  1984-10-25        > 50_000        other   \n",
       "4           4   82540   1996-4-19        > 50_000        other   \n",
       "..        ...     ...         ...             ...          ...   \n",
       "95         95   45428   2002-3-16           other        young   \n",
       "96         96   62729   2001-9-14        > 50_000        other   \n",
       "97         97   39698  2020-10-27           other        young   \n",
       "98         98   29407  1997-10-11           other        other   \n",
       "99         99    5566   1973-12-2        < 10_000        other   \n",
       "\n",
       "                                               result  \n",
       "0   ScoringResult(decision=<ScoringDecision.DECLIN...  \n",
       "1   ScoringResult(decision=<ScoringDecision.ACCEPT...  \n",
       "2   ScoringResult(decision=<ScoringDecision.ACCEPT...  \n",
       "3   ScoringResult(decision=<ScoringDecision.ACCEPT...  \n",
       "4   ScoringResult(decision=<ScoringDecision.ACCEPT...  \n",
       "..                                                ...  \n",
       "95  ScoringResult(decision=<ScoringDecision.ACCEPT...  \n",
       "96  ScoringResult(decision=<ScoringDecision.ACCEPT...  \n",
       "97  ScoringResult(decision=<ScoringDecision.ACCEPT...  \n",
       "98  ScoringResult(decision=<ScoringDecision.ACCEPT...  \n",
       "99  ScoringResult(decision=<ScoringDecision.ACCEPT...  \n",
       "\n",
       "[100 rows x 6 columns]"
      ]
     },
     "execution_count": 122,
     "metadata": {},
     "output_type": "execute_result"
    }
   ],
   "source": [
    "df"
   ]
  },
  {
   "cell_type": "code",
   "execution_count": 123,
   "id": "78ea7a42",
   "metadata": {},
   "outputs": [],
   "source": [
    "df['decision'] = df['result'].apply(lambda x: x.decision.name)\n",
    "df['amount'] = df['result'].apply(lambda x: x.amount)\n",
    "df['proba'] = df['result'].apply(lambda x: x.proba)"
   ]
  },
  {
   "cell_type": "code",
   "execution_count": 124,
   "id": "a5ffc11c",
   "metadata": {},
   "outputs": [
    {
     "data": {
      "text/html": [
       "<div>\n",
       "<style scoped>\n",
       "    .dataframe tbody tr th:only-of-type {\n",
       "        vertical-align: middle;\n",
       "    }\n",
       "\n",
       "    .dataframe tbody tr th {\n",
       "        vertical-align: top;\n",
       "    }\n",
       "\n",
       "    .dataframe thead th {\n",
       "        text-align: right;\n",
       "    }\n",
       "</style>\n",
       "<table border=\"1\" class=\"dataframe\">\n",
       "  <thead>\n",
       "    <tr style=\"text-align: right;\">\n",
       "      <th></th>\n",
       "      <th>person_id</th>\n",
       "      <th>income</th>\n",
       "      <th>birth_date</th>\n",
       "      <th>income_category</th>\n",
       "      <th>age_category</th>\n",
       "      <th>result</th>\n",
       "      <th>decision</th>\n",
       "      <th>amount</th>\n",
       "      <th>proba</th>\n",
       "    </tr>\n",
       "  </thead>\n",
       "  <tbody>\n",
       "    <tr>\n",
       "      <th>0</th>\n",
       "      <td>0</td>\n",
       "      <td>5411</td>\n",
       "      <td>2010-12-14</td>\n",
       "      <td>&lt; 10_000</td>\n",
       "      <td>young</td>\n",
       "      <td>ScoringResult(decision=&lt;ScoringDecision.DECLIN...</td>\n",
       "      <td>DECLINED</td>\n",
       "      <td>0</td>\n",
       "      <td>0.50</td>\n",
       "    </tr>\n",
       "    <tr>\n",
       "      <th>1</th>\n",
       "      <td>1</td>\n",
       "      <td>49120</td>\n",
       "      <td>2002-5-22</td>\n",
       "      <td>other</td>\n",
       "      <td>young</td>\n",
       "      <td>ScoringResult(decision=&lt;ScoringDecision.ACCEPT...</td>\n",
       "      <td>ACCEPTED</td>\n",
       "      <td>100000</td>\n",
       "      <td>0.20</td>\n",
       "    </tr>\n",
       "    <tr>\n",
       "      <th>2</th>\n",
       "      <td>2</td>\n",
       "      <td>17521</td>\n",
       "      <td>2001-12-19</td>\n",
       "      <td>other</td>\n",
       "      <td>other</td>\n",
       "      <td>ScoringResult(decision=&lt;ScoringDecision.ACCEPT...</td>\n",
       "      <td>ACCEPTED</td>\n",
       "      <td>200000</td>\n",
       "      <td>0.20</td>\n",
       "    </tr>\n",
       "    <tr>\n",
       "      <th>3</th>\n",
       "      <td>3</td>\n",
       "      <td>74880</td>\n",
       "      <td>1984-10-25</td>\n",
       "      <td>&gt; 50_000</td>\n",
       "      <td>other</td>\n",
       "      <td>ScoringResult(decision=&lt;ScoringDecision.ACCEPT...</td>\n",
       "      <td>ACCEPTED</td>\n",
       "      <td>500000</td>\n",
       "      <td>0.01</td>\n",
       "    </tr>\n",
       "    <tr>\n",
       "      <th>4</th>\n",
       "      <td>4</td>\n",
       "      <td>82540</td>\n",
       "      <td>1996-4-19</td>\n",
       "      <td>&gt; 50_000</td>\n",
       "      <td>other</td>\n",
       "      <td>ScoringResult(decision=&lt;ScoringDecision.ACCEPT...</td>\n",
       "      <td>ACCEPTED</td>\n",
       "      <td>500000</td>\n",
       "      <td>0.01</td>\n",
       "    </tr>\n",
       "    <tr>\n",
       "      <th>...</th>\n",
       "      <td>...</td>\n",
       "      <td>...</td>\n",
       "      <td>...</td>\n",
       "      <td>...</td>\n",
       "      <td>...</td>\n",
       "      <td>...</td>\n",
       "      <td>...</td>\n",
       "      <td>...</td>\n",
       "      <td>...</td>\n",
       "    </tr>\n",
       "    <tr>\n",
       "      <th>95</th>\n",
       "      <td>95</td>\n",
       "      <td>45428</td>\n",
       "      <td>2002-3-16</td>\n",
       "      <td>other</td>\n",
       "      <td>young</td>\n",
       "      <td>ScoringResult(decision=&lt;ScoringDecision.ACCEPT...</td>\n",
       "      <td>ACCEPTED</td>\n",
       "      <td>100000</td>\n",
       "      <td>0.20</td>\n",
       "    </tr>\n",
       "    <tr>\n",
       "      <th>96</th>\n",
       "      <td>96</td>\n",
       "      <td>62729</td>\n",
       "      <td>2001-9-14</td>\n",
       "      <td>&gt; 50_000</td>\n",
       "      <td>other</td>\n",
       "      <td>ScoringResult(decision=&lt;ScoringDecision.ACCEPT...</td>\n",
       "      <td>ACCEPTED</td>\n",
       "      <td>500000</td>\n",
       "      <td>0.01</td>\n",
       "    </tr>\n",
       "    <tr>\n",
       "      <th>97</th>\n",
       "      <td>97</td>\n",
       "      <td>39698</td>\n",
       "      <td>2020-10-27</td>\n",
       "      <td>other</td>\n",
       "      <td>young</td>\n",
       "      <td>ScoringResult(decision=&lt;ScoringDecision.ACCEPT...</td>\n",
       "      <td>ACCEPTED</td>\n",
       "      <td>100000</td>\n",
       "      <td>0.20</td>\n",
       "    </tr>\n",
       "    <tr>\n",
       "      <th>98</th>\n",
       "      <td>98</td>\n",
       "      <td>29407</td>\n",
       "      <td>1997-10-11</td>\n",
       "      <td>other</td>\n",
       "      <td>other</td>\n",
       "      <td>ScoringResult(decision=&lt;ScoringDecision.ACCEPT...</td>\n",
       "      <td>ACCEPTED</td>\n",
       "      <td>200000</td>\n",
       "      <td>0.20</td>\n",
       "    </tr>\n",
       "    <tr>\n",
       "      <th>99</th>\n",
       "      <td>99</td>\n",
       "      <td>5566</td>\n",
       "      <td>1973-12-2</td>\n",
       "      <td>&lt; 10_000</td>\n",
       "      <td>other</td>\n",
       "      <td>ScoringResult(decision=&lt;ScoringDecision.ACCEPT...</td>\n",
       "      <td>ACCEPTED</td>\n",
       "      <td>200000</td>\n",
       "      <td>0.20</td>\n",
       "    </tr>\n",
       "  </tbody>\n",
       "</table>\n",
       "<p>100 rows × 9 columns</p>\n",
       "</div>"
      ],
      "text/plain": [
       "    person_id  income  birth_date income_category age_category  \\\n",
       "0           0    5411  2010-12-14        < 10_000        young   \n",
       "1           1   49120   2002-5-22           other        young   \n",
       "2           2   17521  2001-12-19           other        other   \n",
       "3           3   74880  1984-10-25        > 50_000        other   \n",
       "4           4   82540   1996-4-19        > 50_000        other   \n",
       "..        ...     ...         ...             ...          ...   \n",
       "95         95   45428   2002-3-16           other        young   \n",
       "96         96   62729   2001-9-14        > 50_000        other   \n",
       "97         97   39698  2020-10-27           other        young   \n",
       "98         98   29407  1997-10-11           other        other   \n",
       "99         99    5566   1973-12-2        < 10_000        other   \n",
       "\n",
       "                                               result  decision  amount  proba  \n",
       "0   ScoringResult(decision=<ScoringDecision.DECLIN...  DECLINED       0   0.50  \n",
       "1   ScoringResult(decision=<ScoringDecision.ACCEPT...  ACCEPTED  100000   0.20  \n",
       "2   ScoringResult(decision=<ScoringDecision.ACCEPT...  ACCEPTED  200000   0.20  \n",
       "3   ScoringResult(decision=<ScoringDecision.ACCEPT...  ACCEPTED  500000   0.01  \n",
       "4   ScoringResult(decision=<ScoringDecision.ACCEPT...  ACCEPTED  500000   0.01  \n",
       "..                                                ...       ...     ...    ...  \n",
       "95  ScoringResult(decision=<ScoringDecision.ACCEPT...  ACCEPTED  100000   0.20  \n",
       "96  ScoringResult(decision=<ScoringDecision.ACCEPT...  ACCEPTED  500000   0.01  \n",
       "97  ScoringResult(decision=<ScoringDecision.ACCEPT...  ACCEPTED  100000   0.20  \n",
       "98  ScoringResult(decision=<ScoringDecision.ACCEPT...  ACCEPTED  200000   0.20  \n",
       "99  ScoringResult(decision=<ScoringDecision.ACCEPT...  ACCEPTED  200000   0.20  \n",
       "\n",
       "[100 rows x 9 columns]"
      ]
     },
     "execution_count": 124,
     "metadata": {},
     "output_type": "execute_result"
    }
   ],
   "source": [
    "df"
   ]
  },
  {
   "cell_type": "code",
   "execution_count": 125,
   "id": "5f08d625",
   "metadata": {},
   "outputs": [
    {
     "data": {
      "text/plain": [
       "decision  amount  proba\n",
       "ACCEPTED  200000  0.20     33\n",
       "          500000  0.01     30\n",
       "                  0.20     19\n",
       "          100000  0.20     16\n",
       "DECLINED  0       0.50      2\n",
       "dtype: int64"
      ]
     },
     "execution_count": 125,
     "metadata": {},
     "output_type": "execute_result"
    }
   ],
   "source": [
    "df[['decision', 'amount', 'proba']].value_counts()"
   ]
  },
  {
   "cell_type": "markdown",
   "id": "0c3ae98d",
   "metadata": {},
   "source": [
    "Данное упражнение имеет серьезный практический смысл - ретро тестирование при внесении измениний."
   ]
  },
  {
   "cell_type": "markdown",
   "id": "bf888277",
   "metadata": {},
   "source": [
    "# Домашняя работа\n",
    "\n",
    "- Сделать обертку (ядро) для имеющей модели\n",
    "    - Только ядро, сервис с расчетом признаков делать не нужно\n",
    "    - Реализовать калькулятор - подбор сумм\n",
    "- Используя обертку насчитать пробу для валидационной выборки и отправить её на kaggle\n",
    "    - Результат prob'ы должен совпасть с использованием интерфейса модели на прямую (predict_proba())\n",
    "- Придумать логику одобрения суммы:\n",
    "    - Минизировать сумму, которую не вернули\n",
    "    - Максимизировать прибыль - максимизировать сумму, которую вернули\n",
    "\n",
    "- Требования\n",
    "    - МР в репозиторий с кодом ядра\n",
    "    - Ноутбук с использованием ядра для насчета proba (также в МРе)\n",
    "    - Код должен быть воспроизводимым\n",
    "        - Приложить pickle с моделью\n",
    "        - Приложить датафрейм с признаками (гит, гугл диск)\n",
    "    - Скрин с kaggle с результатом на валидационной выборке\n",
    "    - Объяснение логики одобрения сумм (желательно с цифрами)\n",
    "    - Срок - до 07.03"
   ]
  }
 ],
 "metadata": {
  "kernelspec": {
   "display_name": "Python 3 (ipykernel)",
   "language": "python",
   "name": "python3"
  },
  "language_info": {
   "codemirror_mode": {
    "name": "ipython",
    "version": 3
   },
   "file_extension": ".py",
   "mimetype": "text/x-python",
   "name": "python",
   "nbconvert_exporter": "python",
   "pygments_lexer": "ipython3",
   "version": "3.8.2"
  }
 },
 "nbformat": 4,
 "nbformat_minor": 5
}
